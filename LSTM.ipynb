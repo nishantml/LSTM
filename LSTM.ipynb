{
 "cells": [
  {
   "cell_type": "markdown",
   "metadata": {},
   "source": [
    "# Exercise: Amazon Fine Food reviews LSTM model.\n",
    "\n",
    "## Step By Step Process \n",
    "- Lets start working on this assignment and as we know the main objective of this assignmenst is to Try LSTM Models on Amazon Food Reviews \n",
    "- So in this assignment we will try to implement LSTM but before that we need do some certain operations i.e First we need to convert our data set in imdb data set formant.\n",
    "- Lets do that \n",
    "    1. As we know we have a data set which has reviews and class lables belongs to that review i.e positive(1) or negative(0) and then we need to make a vocab for of set of all the words in all the reviews and for each words we need to count the frequency of the each words in the reviews and then we will sort it out and set the ranking of the words beased on its occurance and after doing all that we need to set the ranking of the words in the reviews and so on \n",
    "    2. but here we are uwing keras lib which is automatically doing all these for us.\n",
    "    3. and using keras.preprocessing.text lib we will first Tokenizer(num_words=5000) and set num_words =5000 i.e we only want top 5000 words in our corpus and turning texts into sequences (=list of word indexes, where the word of rank i in the dataset (starting at 1) has index i). and then using this we will convert our train and test texts/reviews to turn to sequences.\n",
    "    4. After that we will truncate and/or pad input sequences to trun our each into same length so that it will be easy for us to apply model on top of it \n",
    "- After doing all above we will try RNN with various LSTM layers i.e 1 and 2 using train and test and try to meansure accuracy. "
   ]
  },
  {
   "cell_type": "code",
   "execution_count": 1,
   "metadata": {},
   "outputs": [
    {
     "name": "stderr",
     "output_type": "stream",
     "text": [
      "C:\\Users\\nisha\\Anaconda3\\lib\\site-packages\\h5py\\__init__.py:36: FutureWarning: Conversion of the second argument of issubdtype from `float` to `np.floating` is deprecated. In future, it will be treated as `np.float64 == np.dtype(float).type`.\n",
      "  from ._conv import register_converters as _register_converters\n",
      "Using TensorFlow backend.\n"
     ]
    }
   ],
   "source": [
    "# Importing libraries\n",
    "%matplotlib inline\n",
    "\n",
    "import sqlite3\n",
    "import pandas as pd\n",
    "import numpy as np\n",
    "\n",
    "import matplotlib.pyplot as plt\n",
    "%matplotlib inline\n",
    "import seaborn as sns\n",
    "\n",
    "from keras.models import Sequential\n",
    "from keras.layers import Dense\n",
    "from keras.layers import LSTM\n",
    "from keras.layers.embeddings import Embedding\n",
    "from keras.preprocessing import sequence\n",
    "from keras.layers import Dropout\n",
    "# fix random seed for reproducibility\n",
    "np.random.seed(7)\n",
    "\n",
    "import pickle"
   ]
  },
  {
   "cell_type": "code",
   "execution_count": 2,
   "metadata": {},
   "outputs": [],
   "source": [
    "#taking cleaned data i.e in Reviews table  from final sql database\n",
    "#making connection with database \n",
    "conn = sqlite3.connect('final.sqlite') \n",
    "final = pd.read_sql_query(\"\"\" SELECT * FROM Reviews ORDER BY Time\"\"\", conn)  "
   ]
  },
  {
   "cell_type": "code",
   "execution_count": 3,
   "metadata": {},
   "outputs": [
    {
     "data": {
      "text/plain": [
       "(364171, 12)"
      ]
     },
     "execution_count": 3,
     "metadata": {},
     "output_type": "execute_result"
    }
   ],
   "source": [
    "final.shape"
   ]
  },
  {
   "cell_type": "code",
   "execution_count": 4,
   "metadata": {},
   "outputs": [
    {
     "name": "stdout",
     "output_type": "stream",
     "text": [
      "50000\n"
     ]
    }
   ],
   "source": [
    "final = final[:50000]\n",
    "print(len(final))"
   ]
  },
  {
   "cell_type": "code",
   "execution_count": 5,
   "metadata": {},
   "outputs": [],
   "source": [
    "# Changing the class lables from positive negative to 0/1\n",
    "def scorepol(y):\n",
    "    if y == \"positive\":\n",
    "        return 1\n",
    "    else:\n",
    "        return 0 \n",
    "    \n",
    "final['Score'] = final['Score'].map(scorepol)"
   ]
  },
  {
   "cell_type": "code",
   "execution_count": 6,
   "metadata": {
    "scrolled": false
   },
   "outputs": [
    {
     "data": {
      "text/html": [
       "<div>\n",
       "<style scoped>\n",
       "    .dataframe tbody tr th:only-of-type {\n",
       "        vertical-align: middle;\n",
       "    }\n",
       "\n",
       "    .dataframe tbody tr th {\n",
       "        vertical-align: top;\n",
       "    }\n",
       "\n",
       "    .dataframe thead th {\n",
       "        text-align: right;\n",
       "    }\n",
       "</style>\n",
       "<table border=\"1\" class=\"dataframe\">\n",
       "  <thead>\n",
       "    <tr style=\"text-align: right;\">\n",
       "      <th></th>\n",
       "      <th>index</th>\n",
       "      <th>Id</th>\n",
       "      <th>ProductId</th>\n",
       "      <th>UserId</th>\n",
       "      <th>ProfileName</th>\n",
       "      <th>HelpfulnessNumerator</th>\n",
       "      <th>HelpfulnessDenominator</th>\n",
       "      <th>Score</th>\n",
       "      <th>Time</th>\n",
       "      <th>Summary</th>\n",
       "      <th>Text</th>\n",
       "      <th>CleanedText</th>\n",
       "    </tr>\n",
       "  </thead>\n",
       "  <tbody>\n",
       "    <tr>\n",
       "      <th>0</th>\n",
       "      <td>138706</td>\n",
       "      <td>150524</td>\n",
       "      <td>0006641040</td>\n",
       "      <td>ACITT7DI6IDDL</td>\n",
       "      <td>shari zychinski</td>\n",
       "      <td>0</td>\n",
       "      <td>0</td>\n",
       "      <td>1</td>\n",
       "      <td>939340800</td>\n",
       "      <td>EVERY book is educational</td>\n",
       "      <td>this witty little book makes my son laugh at l...</td>\n",
       "      <td>witti littl book make son laugh loud recit car...</td>\n",
       "    </tr>\n",
       "    <tr>\n",
       "      <th>1</th>\n",
       "      <td>138683</td>\n",
       "      <td>150501</td>\n",
       "      <td>0006641040</td>\n",
       "      <td>AJ46FKXOVC7NR</td>\n",
       "      <td>Nicholas A Mesiano</td>\n",
       "      <td>2</td>\n",
       "      <td>2</td>\n",
       "      <td>1</td>\n",
       "      <td>940809600</td>\n",
       "      <td>This whole series is great way to spend time w...</td>\n",
       "      <td>I can remember seeing the show when it aired o...</td>\n",
       "      <td>rememb see show air televis year ago child sis...</td>\n",
       "    </tr>\n",
       "    <tr>\n",
       "      <th>2</th>\n",
       "      <td>417839</td>\n",
       "      <td>451856</td>\n",
       "      <td>B00004CXX9</td>\n",
       "      <td>AIUWLEQ1ADEG5</td>\n",
       "      <td>Elizabeth Medina</td>\n",
       "      <td>0</td>\n",
       "      <td>0</td>\n",
       "      <td>1</td>\n",
       "      <td>944092800</td>\n",
       "      <td>Entertainingl Funny!</td>\n",
       "      <td>Beetlejuice is a well written movie ..... ever...</td>\n",
       "      <td>beetlejuic well written movi everyth excel act...</td>\n",
       "    </tr>\n",
       "    <tr>\n",
       "      <th>3</th>\n",
       "      <td>346055</td>\n",
       "      <td>374359</td>\n",
       "      <td>B00004CI84</td>\n",
       "      <td>A344SMIA5JECGM</td>\n",
       "      <td>Vincent P. Ross</td>\n",
       "      <td>1</td>\n",
       "      <td>2</td>\n",
       "      <td>1</td>\n",
       "      <td>944438400</td>\n",
       "      <td>A modern day fairy tale</td>\n",
       "      <td>A twist of rumplestiskin captured on film, sta...</td>\n",
       "      <td>twist rumplestiskin captur film star michael k...</td>\n",
       "    </tr>\n",
       "    <tr>\n",
       "      <th>4</th>\n",
       "      <td>417838</td>\n",
       "      <td>451855</td>\n",
       "      <td>B00004CXX9</td>\n",
       "      <td>AJH6LUC1UT1ON</td>\n",
       "      <td>The Phantom of the Opera</td>\n",
       "      <td>0</td>\n",
       "      <td>0</td>\n",
       "      <td>1</td>\n",
       "      <td>946857600</td>\n",
       "      <td>FANTASTIC!</td>\n",
       "      <td>Beetlejuice is an excellent and funny movie. K...</td>\n",
       "      <td>beetlejuic excel funni movi keaton hilari wack...</td>\n",
       "    </tr>\n",
       "  </tbody>\n",
       "</table>\n",
       "</div>"
      ],
      "text/plain": [
       "    index      Id   ProductId          UserId               ProfileName  \\\n",
       "0  138706  150524  0006641040   ACITT7DI6IDDL           shari zychinski   \n",
       "1  138683  150501  0006641040   AJ46FKXOVC7NR        Nicholas A Mesiano   \n",
       "2  417839  451856  B00004CXX9   AIUWLEQ1ADEG5          Elizabeth Medina   \n",
       "3  346055  374359  B00004CI84  A344SMIA5JECGM           Vincent P. Ross   \n",
       "4  417838  451855  B00004CXX9   AJH6LUC1UT1ON  The Phantom of the Opera   \n",
       "\n",
       "   HelpfulnessNumerator  HelpfulnessDenominator  Score       Time  \\\n",
       "0                     0                       0      1  939340800   \n",
       "1                     2                       2      1  940809600   \n",
       "2                     0                       0      1  944092800   \n",
       "3                     1                       2      1  944438400   \n",
       "4                     0                       0      1  946857600   \n",
       "\n",
       "                                             Summary  \\\n",
       "0                          EVERY book is educational   \n",
       "1  This whole series is great way to spend time w...   \n",
       "2                               Entertainingl Funny!   \n",
       "3                            A modern day fairy tale   \n",
       "4                                         FANTASTIC!   \n",
       "\n",
       "                                                Text  \\\n",
       "0  this witty little book makes my son laugh at l...   \n",
       "1  I can remember seeing the show when it aired o...   \n",
       "2  Beetlejuice is a well written movie ..... ever...   \n",
       "3  A twist of rumplestiskin captured on film, sta...   \n",
       "4  Beetlejuice is an excellent and funny movie. K...   \n",
       "\n",
       "                                         CleanedText  \n",
       "0  witti littl book make son laugh loud recit car...  \n",
       "1  rememb see show air televis year ago child sis...  \n",
       "2  beetlejuic well written movi everyth excel act...  \n",
       "3  twist rumplestiskin captur film star michael k...  \n",
       "4  beetlejuic excel funni movi keaton hilari wack...  "
      ]
     },
     "execution_count": 6,
     "metadata": {},
     "output_type": "execute_result"
    }
   ],
   "source": [
    "final.head()"
   ]
  },
  {
   "cell_type": "code",
   "execution_count": 7,
   "metadata": {},
   "outputs": [
    {
     "name": "stdout",
     "output_type": "stream",
     "text": [
      "No. of datapoints in X_train : 40000\n",
      "No. of datapoints in X_test : 10000\n",
      "Shape of Y_train : (40000,)\n",
      "Shape of Y_test : (10000,)\n"
     ]
    }
   ],
   "source": [
    "x = final['CleanedText'].values\n",
    "y = final['Score']\n",
    "\n",
    "# Splitting the data into 80-20 train_data and test_data\n",
    "from sklearn.model_selection import train_test_split \n",
    "X_train, X_test, Y_train, Y_test = train_test_split(x, y, test_size=0.2, random_state=42)\n",
    "\n",
    "print(\"No. of datapoints in X_train :\",len(X_train))\n",
    "print(\"No. of datapoints in X_test :\",len(X_test))\n",
    "print(\"Shape of Y_train :\",Y_train.shape)\n",
    "print(\"Shape of Y_test :\",Y_test.shape)"
   ]
  },
  {
   "cell_type": "code",
   "execution_count": 8,
   "metadata": {},
   "outputs": [],
   "source": [
    "# https://keras.io/preprocessing/text/\n",
    "from keras.preprocessing.text import Tokenizer\n",
    "tokenizer = Tokenizer(num_words=5000)\n",
    "tokenizer.fit_on_texts(X_train)\n",
    "\n",
    "X_train = tokenizer.texts_to_sequences(X_train)"
   ]
  },
  {
   "cell_type": "code",
   "execution_count": 9,
   "metadata": {},
   "outputs": [],
   "source": [
    "X_test = tokenizer.texts_to_sequences(X_test)"
   ]
  },
  {
   "cell_type": "code",
   "execution_count": 10,
   "metadata": {},
   "outputs": [
    {
     "name": "stdout",
     "output_type": "stream",
     "text": [
      "[243, 9, 19, 3411, 355, 272, 263, 162, 125, 355, 58, 2, 37, 125, 355, 636, 75, 37, 4, 33, 115, 26, 520]\n",
      "<class 'list'>\n",
      "23\n"
     ]
    }
   ],
   "source": [
    "print(X_train[1])\n",
    "print(type(X_train[1]))\n",
    "print(len(X_train[1]))"
   ]
  },
  {
   "cell_type": "code",
   "execution_count": 11,
   "metadata": {},
   "outputs": [
    {
     "name": "stdout",
     "output_type": "stream",
     "text": [
      "[   0    0    0    0    0    0    0    0    0    0    0    0    0    0\n",
      "    0    0    0    0    0    0    0    0    0    0    0    0    0    0\n",
      "    0    0    0    0    0    0    0    0    0    0    0    0    0    0\n",
      "    0    0    0    0    0    0    0    0    0    0    0    0    0    0\n",
      "    0    0    0    0    0    0    0    0    0    0    0    0    0    0\n",
      "    0    0    0    0    0    0    0    0    0    0    0    0    0    0\n",
      "    0    0    0    0    0    0    0    0    0    0    0    0    0    0\n",
      "    0    0    0    0    0    0    0    0    0    0    0    0    0    0\n",
      "    0    0    0    0    0    0    0    0    0    0    0    0    0    0\n",
      "    0    0    0    0    0    0    0    0    0    0    0    0    0    0\n",
      "    0    0    0    0    0    0    0    0    0    0    0    0    0    0\n",
      "    0    0    0    0    0    0    0    0    0    0    0    0    0    0\n",
      "    0    0    0    0    0    0    0    0    0    0    0    0    0    0\n",
      "    0    0    0    0    0    0    0    0    0    0    0    0    0    0\n",
      "    0    0    0    0    0    0    0    0    0    0    0    0    0    0\n",
      "    0    0    0    0    0    0    0    0    0    0    0    0    0    0\n",
      "    0    0    0    0    0    0    0    0    0    0    0    0    0    0\n",
      "    0    0    0    0    0    0    0    0    0    0    0    0    0    0\n",
      "    0    0    0    0    0    0    0    0    0    0    0    0    0    0\n",
      "    0    0    0    0    0    0    0    0    0    0    0    0    0    0\n",
      "    0    0    0    0    0    0    0    0    0    0    0    0    0    0\n",
      "    0    0    0    0    0    0    0    0    0    0    0    0    0    0\n",
      "    0    0    0    0    0    0    0    0    0    0    0    0    0    0\n",
      "    0    0    0    0    0    0    0    0    0    0    0    0    0    0\n",
      "    0    0    0    0    0    0    0    0    0    0    0    0    0    0\n",
      "    0    0    0    0    0    0    0    0    0    0    0    0    0    0\n",
      "    0    0    0    0    0    0    0    0    0    0    0    0    0  243\n",
      "    9   19 3411  355  272  263  162  125  355   58    2   37  125  355\n",
      "  636   75   37    4   33  115   26  520]\n",
      "(40000, 400)\n"
     ]
    }
   ],
   "source": [
    "# truncate and/or pad input sequences\n",
    "max_review_length = 400\n",
    "X_train = sequence.pad_sequences(X_train, maxlen=max_review_length)\n",
    "X_test = sequence.pad_sequences(X_test, maxlen=max_review_length)\n",
    "\n",
    "print(X_train[1])\n",
    "print(X_train.shape)"
   ]
  },
  {
   "cell_type": "code",
   "execution_count": 12,
   "metadata": {},
   "outputs": [],
   "source": [
    "# utility function\n",
    "def plt_dynamic_model(x, vy, ty):\n",
    "    plt.figure(figsize=(10,5))\n",
    "    plt.plot(x, vy, 'b', label=\"Val Loss\")\n",
    "    plt.plot(x, ty, 'r', label=\"Train Loss\")\n",
    "    plt.xlabel('Epochs val') \n",
    "    plt.ylabel('Crossentropy Loss')\n",
    "    plt.title('\\nCrossentropy Loss VS Epochs')\n",
    "    plt.legend()\n",
    "    plt.show()"
   ]
  },
  {
   "cell_type": "markdown",
   "metadata": {},
   "source": [
    "## 1. RNN with 1 LSTM layer"
   ]
  },
  {
   "cell_type": "code",
   "execution_count": 14,
   "metadata": {},
   "outputs": [
    {
     "name": "stdout",
     "output_type": "stream",
     "text": [
      "_________________________________________________________________\n",
      "Layer (type)                 Output Shape              Param #   \n",
      "=================================================================\n",
      "embedding_2 (Embedding)      (None, 400, 32)           160000    \n",
      "_________________________________________________________________\n",
      "lstm_2 (LSTM)                (None, 100)               53200     \n",
      "_________________________________________________________________\n",
      "dropout_2 (Dropout)          (None, 100)               0         \n",
      "_________________________________________________________________\n",
      "dense_2 (Dense)              (None, 1)                 101       \n",
      "=================================================================\n",
      "Total params: 213,301\n",
      "Trainable params: 213,301\n",
      "Non-trainable params: 0\n",
      "_________________________________________________________________\n",
      "None\n"
     ]
    },
    {
     "name": "stderr",
     "output_type": "stream",
     "text": [
      "C:\\Users\\nisha\\Anaconda3\\lib\\site-packages\\ipykernel_launcher.py:11: UserWarning: The `nb_epoch` argument in `fit` has been renamed `epochs`.\n",
      "  # This is added back by InteractiveShellApp.init_path()\n"
     ]
    },
    {
     "name": "stdout",
     "output_type": "stream",
     "text": [
      "Train on 40000 samples, validate on 10000 samples\n",
      "Epoch 1/10\n",
      "40000/40000 [==============================] - 457s 11ms/step - loss: 0.2469 - acc: 0.9103 - val_loss: 0.1863 - val_acc: 0.9311\n",
      "Epoch 2/10\n",
      "40000/40000 [==============================] - 408s 10ms/step - loss: 0.1670 - acc: 0.9375 - val_loss: 0.1839 - val_acc: 0.9315\n",
      "Epoch 3/10\n",
      "40000/40000 [==============================] - 400s 10ms/step - loss: 0.1462 - acc: 0.9461 - val_loss: 0.1883 - val_acc: 0.9309\n",
      "Epoch 4/10\n",
      "40000/40000 [==============================] - 408s 10ms/step - loss: 0.1310 - acc: 0.9528 - val_loss: 0.1910 - val_acc: 0.9291\n",
      "Epoch 5/10\n",
      "40000/40000 [==============================] - 423s 11ms/step - loss: 0.1176 - acc: 0.9575 - val_loss: 0.2045 - val_acc: 0.9252\n",
      "Epoch 6/10\n",
      "40000/40000 [==============================] - 450s 11ms/step - loss: 0.1054 - acc: 0.9636 - val_loss: 0.2153 - val_acc: 0.9279\n",
      "Epoch 7/10\n",
      "40000/40000 [==============================] - 420s 11ms/step - loss: 0.0942 - acc: 0.9679 - val_loss: 0.2384 - val_acc: 0.9220\n",
      "Epoch 8/10\n",
      "40000/40000 [==============================] - 482s 12ms/step - loss: 0.0822 - acc: 0.9727 - val_loss: 0.2735 - val_acc: 0.9119\n",
      "Epoch 9/10\n",
      "40000/40000 [==============================] - 426s 11ms/step - loss: 0.0771 - acc: 0.9747 - val_loss: 0.2566 - val_acc: 0.9155\n",
      "Epoch 10/10\n",
      "40000/40000 [==============================] - 478s 12ms/step - loss: 0.0639 - acc: 0.9795 - val_loss: 0.2994 - val_acc: 0.9153\n"
     ]
    }
   ],
   "source": [
    "embedding_vecor_length = 32\n",
    "model1 = Sequential()\n",
    "model1.add(Embedding(5000, embedding_vecor_length, input_length=max_review_length))\n",
    "model1.add(LSTM(100))\n",
    "model1.add(Dropout(0.2))\n",
    "model1.add(Dense(1, activation='sigmoid'))\n",
    "\n",
    "model1.compile(loss='binary_crossentropy', optimizer='adam', metrics=['accuracy'])\n",
    "print(model1.summary())\n",
    "#Refer: https://datascience.stackexchange.com/questions/10615/number-of-parameters-in-an-lstm-model\n",
    "history1 = model1.fit(X_train, Y_train, nb_epoch=10, batch_size=64  ,verbose=1,validation_data=(X_test, Y_test))"
   ]
  },
  {
   "cell_type": "code",
   "execution_count": 15,
   "metadata": {},
   "outputs": [
    {
     "data": {
      "image/png": "[encoded data removed]",
      "text/plain": [
       "<Figure size 720x360 with 1 Axes>"
      ]
     },
     "metadata": {},
     "output_type": "display_data"
    },
    {
     "name": "stdout",
     "output_type": "stream",
     "text": [
      "Accuracy: 91.53%\n"
     ]
    }
   ],
   "source": [
    "#-------------------------------------------------PLOT--------------------------------------------------------\n",
    "x = list(range(1,11))\n",
    "vy = history1.history['val_loss']\n",
    "ty = history1.history['loss']\n",
    "\n",
    "plt_dynamic_model(x, vy, ty)\n",
    "\n",
    "model_scores = model1.evaluate(X_test, Y_test, verbose=0)\n",
    "print(\"Accuracy: %.2f%%\" % (model_scores[1]*100))\n",
    "\n",
    "model1_test_acc = model_scores[1]\n",
    "model1_train_acc = max(history1.history['acc'])"
   ]
  },
  {
   "cell_type": "markdown",
   "metadata": {},
   "source": [
    "## 2. RNN with 2 LSTM layers"
   ]
  },
  {
   "cell_type": "code",
   "execution_count": 16,
   "metadata": {},
   "outputs": [
    {
     "name": "stdout",
     "output_type": "stream",
     "text": [
      "_________________________________________________________________\n",
      "Layer (type)                 Output Shape              Param #   \n",
      "=================================================================\n",
      "embedding_3 (Embedding)      (None, 400, 32)           160000    \n",
      "_________________________________________________________________\n",
      "lstm_3 (LSTM)                (None, 400, 100)          53200     \n",
      "_________________________________________________________________\n",
      "lstm_4 (LSTM)                (None, 100)               80400     \n",
      "_________________________________________________________________\n",
      "dense_3 (Dense)              (None, 1)                 101       \n",
      "=================================================================\n",
      "Total params: 293,701\n",
      "Trainable params: 293,701\n",
      "Non-trainable params: 0\n",
      "_________________________________________________________________\n",
      "None\n"
     ]
    },
    {
     "name": "stderr",
     "output_type": "stream",
     "text": [
      "C:\\Users\\nisha\\Anaconda3\\lib\\site-packages\\ipykernel_launcher.py:10: UserWarning: The `nb_epoch` argument in `fit` has been renamed `epochs`.\n",
      "  # Remove the CWD from sys.path while we load stuff.\n"
     ]
    },
    {
     "name": "stdout",
     "output_type": "stream",
     "text": [
      "Train on 40000 samples, validate on 10000 samples\n",
      "Epoch 1/10\n",
      "40000/40000 [==============================] - 1055s 26ms/step - loss: 0.2380 - acc: 0.9134 - val_loss: 0.1926 - val_acc: 0.9250\n",
      "Epoch 2/10\n",
      "40000/40000 [==============================] - 976s 24ms/step - loss: 0.1638 - acc: 0.9397 - val_loss: 0.1844 - val_acc: 0.9291\n",
      "Epoch 3/10\n",
      "40000/40000 [==============================] - 922s 23ms/step - loss: 0.1382 - acc: 0.9501 - val_loss: 0.1930 - val_acc: 0.9306\n",
      "Epoch 4/10\n",
      "40000/40000 [==============================] - 971s 24ms/step - loss: 0.1177 - acc: 0.9583 - val_loss: 0.2085 - val_acc: 0.9228\n",
      "Epoch 5/10\n",
      "40000/40000 [==============================] - 1058s 26ms/step - loss: 0.1018 - acc: 0.9657 - val_loss: 0.2295 - val_acc: 0.9245\n",
      "Epoch 6/10\n",
      "40000/40000 [==============================] - 1019s 25ms/step - loss: 0.0872 - acc: 0.9715 - val_loss: 0.2656 - val_acc: 0.9201\n",
      "Epoch 7/10\n",
      "40000/40000 [==============================] - 1044s 26ms/step - loss: 0.0733 - acc: 0.9766 - val_loss: 0.3021 - val_acc: 0.9158\n",
      "Epoch 8/10\n",
      "40000/40000 [==============================] - 1019s 25ms/step - loss: 0.0611 - acc: 0.9813 - val_loss: 0.2912 - val_acc: 0.9205\n",
      "Epoch 9/10\n",
      "40000/40000 [==============================] - 985s 25ms/step - loss: 0.0530 - acc: 0.9836 - val_loss: 0.3417 - val_acc: 0.9114\n",
      "Epoch 10/10\n",
      "40000/40000 [==============================] - 993s 25ms/step - loss: 0.0438 - acc: 0.9866 - val_loss: 0.3483 - val_acc: 0.9164\n"
     ]
    }
   ],
   "source": [
    "embedding_vecor_length = 32\n",
    "model2 = Sequential()\n",
    "model2.add(Embedding(5000, embedding_vecor_length, input_length=max_review_length))\n",
    "model2.add(LSTM(100, return_sequences=True))\n",
    "model2.add(LSTM(100))\n",
    "model2.add(Dense(1, activation='sigmoid'))\n",
    "model2.compile(loss='binary_crossentropy', optimizer='adam', metrics=['accuracy'])\n",
    "print(model2.summary())\n",
    "\n",
    "history2 = model2.fit(X_train, Y_train, nb_epoch=10, batch_size=64,verbose=1,validation_data=(X_test, Y_test))"
   ]
  },
  {
   "cell_type": "code",
   "execution_count": 18,
   "metadata": {},
   "outputs": [
    {
     "data": {
      "image/png": "[encoded data removed]",
      "text/plain": [
       "<Figure size 720x360 with 1 Axes>"
      ]
     },
     "metadata": {},
     "output_type": "display_data"
    },
    {
     "name": "stdout",
     "output_type": "stream",
     "text": [
      "Accuracy: 91.64%\n"
     ]
    }
   ],
   "source": [
    "#-------------------------------------------------PLOT--------------------------------------------------------\n",
    "x = list(range(1,11))\n",
    "vy = history2.history['val_loss']\n",
    "ty = history2.history['loss']\n",
    "\n",
    "plt_dynamic_model(x, vy, ty)\n",
    "\n",
    "model_scores = model2.evaluate(X_test, Y_test, verbose=0)\n",
    "print(\"Accuracy: %.2f%%\" % (model_scores[1]*100))\n",
    "\n",
    "model2_test_acc = model_scores[1]\n",
    "model2_train_acc = max(history2.history['acc'])"
   ]
  },
  {
   "cell_type": "markdown",
   "metadata": {},
   "source": [
    "## Conclusion "
   ]
  },
  {
   "cell_type": "code",
   "execution_count": 19,
   "metadata": {},
   "outputs": [
    {
     "name": "stdout",
     "output_type": "stream",
     "text": [
      "Performance Table\n",
      "+------------------------+----------+--------+\n",
      "|         Models         |  Train   |  Test  |\n",
      "+------------------------+----------+--------+\n",
      "| RNN with 1 LSTM layers |  0.9795  | 0.9153 |\n",
      "| RNN with 2 LSTM layers | 0.986575 | 0.9164 |\n",
      "+------------------------+----------+--------+\n"
     ]
    }
   ],
   "source": [
    "from prettytable import PrettyTable\n",
    "\n",
    "print('Performance Table')\n",
    "x = PrettyTable()\n",
    "x.field_names =[\"Models\",\"Train\",\"Test\"]\n",
    "\n",
    "x.add_row([\"RNN with 1 LSTM layers\",model1_train_acc,model1_test_acc])\n",
    "x.add_row([\"RNN with 2 LSTM layers\",model2_train_acc,model2_test_acc])\n",
    "\n",
    "print(x)"
   ]
  }
 ],
 "metadata": {
  "kernelspec": {
   "display_name": "Python 3",
   "language": "python",
   "name": "python3"
  },
  "language_info": {
   "codemirror_mode": {
    "name": "ipython",
    "version": 3
   },
   "file_extension": ".py",
   "mimetype": "text/x-python",
   "name": "python",
   "nbconvert_exporter": "python",
   "pygments_lexer": "ipython3",
   "version": "3.6.5"
  }
 },
 "nbformat": 4,
 "nbformat_minor": 2
}
